{
  "cells": [
    {
      "cell_type": "markdown",
      "metadata": {
        "tags": [],
        "id": "A2bTMi5woaZo"
      },
      "source": [
        "# Self-Balancing Scooter Control\n",
        "\n",
        "![](images/self-balancing-scooter.png)\n",
        "\n",
        "> A self-balancing scooter [...] is a self-balancing personal transporter consisting of two motorized wheels connected to a pair of articulated pads on which the rider places their feet. The rider controls the speed by leaning forward or backward, and direction of travel by twisting the pads.\n",
        ">\n",
        "> Source: <https://en.wikipedia.org/wiki/Self-balancing_scooter>"
      ]
    },
    {
      "cell_type": "markdown",
      "metadata": {
        "id": "ju98h9bhoaZq"
      },
      "source": [
        "### Python Dependencies"
      ]
    },
    {
      "cell_type": "code",
      "execution_count": null,
      "metadata": {
        "id": "ertT7tFMoaZr"
      },
      "outputs": [],
      "source": [
        "from numpy import *\n",
        "from numpy.linalg import *\n",
        "\n",
        "from scipy.linalg import *\n",
        "from scipy.integrate import *\n",
        "from scipy.signal import *\n",
        "\n",
        "from matplotlib.pyplot import *"
      ]
    },
    {
      "cell_type": "markdown",
      "metadata": {
        "tags": [],
        "id": "EYOxZyUNoaZs"
      },
      "source": [
        "Step 1 - Scooter Planar Model\n",
        "================================"
      ]
    },
    {
      "cell_type": "markdown",
      "metadata": {
        "tags": [],
        "id": "pQe07NSToaZs"
      },
      "source": [
        "### Introduction"
      ]
    },
    {
      "cell_type": "markdown",
      "metadata": {
        "tags": [],
        "id": "IFaQmg2EoaZs"
      },
      "source": [
        "We consider a simple model of a self-balancing scooter evolving in the plane. It is mainly made of\n",
        "\n",
        "  - The frame that contains the two articulated pads; from above, each pad essentially look like a triangle (one vertice in the center of the frame, one vertice at each extremity of the wheel).\n",
        "\n",
        "  - Two fixed wheels (their orientation with respect to the frame does not change).\n",
        "    They are parallel and located at opposite ends of the frame.\n",
        "    \n",
        "Let $(0, e_x, e_y)$ be a direct orthonormal frame of the plane. We denote\n",
        "\n",
        "  - $(x, y)$ the coordinates of the wheel axis center in the orthonormal and\n",
        "  - $\\theta$ the angle of the wheels direction with respect to vector $e_x$ ; with $\\theta = 0$ when the front of the scooter faces the right ($e_x$) and $\\theta = \\pi/2$ when it faces upwards ($e_y$).\n",
        "\n",
        "  - $\\phi_l$ and $\\phi_r$ the rotation angles of the left and right wheel respectively ; by convention, when these angles increase, the scooter moves forward."
      ]
    },
    {
      "cell_type": "markdown",
      "metadata": {
        "tags": [],
        "id": "U-U3bHL4oaZt"
      },
      "source": [
        "### Parameter Definition"
      ]
    },
    {
      "cell_type": "markdown",
      "metadata": {
        "tags": [],
        "id": "BbzAAGljoaZt"
      },
      "source": [
        "From now on, we assume that the seat frame length is $\\ell = 50 \\mbox{ cm}$ and the wheel radius is $r = 12.5 \\mbox{ cm}$.\n",
        "\n",
        "🧩 Define the corresponding Python variables `l` and `r` (express every length in meters, and more generally in the sequel, always use the [international standard of units](https://en.wikipedia.org/wiki/SI_derived_unit)) for numerical values."
      ]
    },
    {
      "cell_type": "code",
      "execution_count": null,
      "metadata": {
        "id": "Gcwi35NIoaZu"
      },
      "outputs": [],
      "source": [
        "\n",
        "l = 0.50\n",
        "r = 0.125\n"
      ]
    },
    {
      "cell_type": "markdown",
      "metadata": {
        "id": "__I69ce6oaZu"
      },
      "source": [
        "### Graphical Representation\n",
        "\n",
        "🧩 Implement a function `draw_scooter` with arguments `x`, `y` and `theta` that draws a simple geometric model of the wheelchair (with a red frame and black fixed wheels) in the plane (top view) for arbitrary values of $(x, y)$ and $\\theta$. Use a green circle marker 50 cm in of the frame to indicate which way is forward.\n",
        "\n",
        "🗝️ **Hint.** Use the function `plot` of `matplotlib.pyplot`."
      ]
    },
    {
      "cell_type": "code",
      "execution_count": null,
      "metadata": {
        "colab": {
          "base_uri": "https://localhost:8080/",
          "height": 472
        },
        "id": "QtziJgjdoaZu",
        "outputId": "d9cf8116-c5ef-4f9a-e2d1-1e4ea2d59b06"
      },
      "outputs": [
        {
          "output_type": "display_data",
          "data": {
            "text/plain": [
              "<Figure size 640x480 with 1 Axes>"
            ],
            "image/png": "[encoded data removed]"
          },
          "metadata": {}
        }
      ],
      "source": [
        "import matplotlib.pyplot as plt\n",
        "import numpy as np\n",
        "\n",
        "def draw_scooter(x, y, theta):\n",
        "\n",
        "    l = 0.50\n",
        "    r = 0.125\n",
        "\n",
        "\n",
        "    half_l = l / 2.0\n",
        "    wheel_left = (x - half_l * np.sin(theta), y + half_l * np.cos(theta))\n",
        "    wheel_right = (x + half_l * np.sin(theta), y - half_l * np.cos(theta))\n",
        "\n",
        "\n",
        "    frame_vertices = [\n",
        "        (x, y),\n",
        "        (x + half_l * np.cos(theta), y + half_l * np.sin(theta)),\n",
        "        (x - half_l * np.cos(theta), y - half_l * np.sin(theta))\n",
        "    ]\n",
        "\n",
        "\n",
        "    marker_x = x + 0.5 * np.cos(theta)\n",
        "    marker_y = y + 0.5 * np.sin(theta)\n",
        "\n",
        "\n",
        "    plt.figure()\n",
        "    plt.plot([wheel_left[0], wheel_right[0]], [wheel_left[1], wheel_right[1]], 'ro-', linewidth=2)\n",
        "    plt.plot(wheel_left[0], wheel_left[1], 'ko', markersize=10)\n",
        "    plt.plot(wheel_right[0], wheel_right[1], 'ko', markersize=10)\n",
        "    plt.plot(marker_x, marker_y, 'go', markersize=10)\n",
        "\n",
        "\n",
        "    plt.xlim(x - 1, x + 1)\n",
        "    plt.ylim(y - 1, y + 1)\n",
        "    plt.gca().set_aspect('equal', adjustable='box')\n",
        "\n",
        "\n",
        "    plt.xlabel('X position (meters)')\n",
        "    plt.ylabel('Y position (meters)')\n",
        "    plt.title('Scooter Model')\n",
        "\n",
        "\n",
        "    plt.grid(True)\n",
        "    plt.show()\n",
        "\n",
        "\n",
        "draw_scooter(1, 1, np.pi / 2)\n"
      ]
    },
    {
      "cell_type": "markdown",
      "metadata": {
        "id": "SsSXxQMMoaZv"
      },
      "source": [
        "🧩 Represent the wheelchair when $(x, y, \\theta) = (0, 0, 0), (2, 2, \\pi/2), (0, 4, \\pi), (-2, 2, 3\\pi/2)$.\n",
        "\n",
        "🗝️ **Hint.** Use the following `draw_arena` function beforehand."
      ]
    },
    {
      "cell_type": "code",
      "execution_count": null,
      "metadata": {
        "id": "QMdyz5kcoaZv"
      },
      "outputs": [],
      "source": [
        "def draw_arena(xmin, xmax, ymin, ymax):\n",
        "    wh_ratio = (xmax - xmin) / (ymax - ymin)\n",
        "    figsize = fig_width, fig_height = 16, 16 / wh_ratio\n",
        "    figure(figsize=figsize)\n",
        "    axes = gca()\n",
        "    axes.axis([xmin, xmax, ymin, ymax])\n",
        "    axes.set_aspect(1)\n",
        "    xticks(arange(xmin, xmax+1, 1))\n",
        "    yticks(arange(ymin, ymax+1, 1))\n",
        "    grid(True)"
      ]
    },
    {
      "cell_type": "code",
      "execution_count": null,
      "metadata": {
        "colab": {
          "base_uri": "https://localhost:8080/",
          "height": 1000
        },
        "id": "r8ZvwK-zoaZw",
        "outputId": "3c1d9777-af05-496c-e46c-b9579dc29345"
      },
      "outputs": [
        {
          "output_type": "display_data",
          "data": {
            "text/plain": [
              "<Figure size 1600x1600 with 1 Axes>"
            ],
            "image/png": "[encoded data removed]"
          },
          "metadata": {}
        }
      ],
      "source": [
        "import matplotlib.pyplot as plt\n",
        "import numpy as np\n",
        "\n",
        "def draw_arena(xmin, xmax, ymin, ymax):\n",
        "    wh_ratio = (xmax - xmin) / (ymax - ymin)\n",
        "    figsize = fig_width, fig_height = 16, 16 / wh_ratio\n",
        "    plt.figure(figsize=figsize)\n",
        "    axes = plt.gca()\n",
        "    axes.axis([xmin, xmax, ymin, ymax])\n",
        "    axes.set_aspect(1)\n",
        "    plt.xticks(np.arange(xmin, xmax + 1, 1))\n",
        "    plt.yticks(np.arange(ymin, ymax + 1, 1))\n",
        "    plt.grid(True)\n",
        "\n",
        "def draw_scooter(x, y, theta):\n",
        "\n",
        "    l = 0.50\n",
        "    r = 0.125\n",
        "\n",
        "\n",
        "    half_l = l / 2.0\n",
        "    wheel_left = (x - half_l * np.sin(theta), y + half_l * np.cos(theta))\n",
        "    wheel_right = (x + half_l * np.sin(theta), y - half_l * np.cos(theta))\n",
        "\n",
        "\n",
        "    frame_vertices = [\n",
        "        (x, y),\n",
        "        (x + half_l * np.cos(theta), y + half_l * np.sin(theta)),\n",
        "        (x - half_l * np.cos(theta), y - half_l * np.sin(theta))\n",
        "    ]\n",
        "    marker_x = x + 0.5 * np.cos(theta)\n",
        "    marker_y = y + 0.5 * np.sin(theta)\n",
        "\n",
        "\n",
        "    plt.plot([wheel_left[0], wheel_right[0]], [wheel_left[1], wheel_right[1]], 'ro-', linewidth=2)\n",
        "    plt.plot(wheel_left[0], wheel_left[1], 'ko', markersize=10)\n",
        "    plt.plot(wheel_right[0], wheel_right[1], 'ko', markersize=10)\n",
        "    plt.plot(marker_x, marker_y, 'go', markersize=10)\n",
        "\n",
        "positions_orientations = [\n",
        "    (0, 0, 0),\n",
        "    (2, 2, np.pi / 2),\n",
        "    (0, 4, np.pi),\n",
        "    (-2, 2, 3 * np.pi / 2)\n",
        "]\n",
        "\n",
        "\n",
        "xmin, xmax, ymin, ymax = -5, 5, -5, 5\n",
        "draw_arena(xmin, xmax, ymin, ymax)\n",
        "\n",
        "\n",
        "for (x, y, theta) in positions_orientations:\n",
        "    draw_scooter(x, y, theta)\n",
        "\n",
        "\n",
        "plt.show()\n"
      ]
    },
    {
      "cell_type": "markdown",
      "metadata": {
        "id": "wzFzqaHHoaZx"
      },
      "source": [
        "### Kinematic Modeling\n",
        "\n",
        "We assume that we can control the wheels angular velocities $\\omega_l = \\dot{\\phi}_l$ and $\\omega_r = \\dot{\\phi}_r$ (this is a *kinematic* model of the wheelchair).\n",
        "We also assume that the wheelchair fixed wheels roll without slipping.\n",
        "\n",
        "🧩 Establish the differential equations that relate $\\dot{x}$,\n",
        "$\\dot{y}$ and $\\dot{\\theta}$ with $\\omega_l$ and $\\omega_r$."
      ]
    },
    {
      "cell_type": "markdown",
      "source": [
        "$$\n",
        "\\dot{x} = \\frac{r (\\omega_l + \\omega_r)}{2} \\cos(\\theta)\n",
        "$$\n",
        "\n",
        "$$\n",
        "\\dot{y} = \\frac{r (\\omega_l + \\omega_r)}{2} \\sin(\\theta)\n",
        "$$\n",
        "\n",
        "$$\n",
        "\\dot{\\theta} = \\frac{r (\\omega_r - \\omega_l)}{\\ell}\n",
        "$$\n",
        "\n",
        "where:\n",
        "\n",
        "$$\n",
        "\\begin{align*}\n",
        "- \\dot{x}, \\dot{y}, &\\text{ and } \\dot{\\theta} \\text{ are the rates of change of the } x, y, \\text{ and } \\theta \\text{ coordinates, respectively,} \\\\\n",
        "- \\omega_l &\\text{ and } \\omega_r \\text{ are the angular velocities of the left and right wheels, respectively,} \\\\\n",
        "- r &\\text{ is the radius of the wheels,} \\\\\n",
        "- \\ell &\\text{ is the distance between the centers of the wheels (wheelbase).}\n",
        "\\end{align*}\n",
        "$$\n"
      ],
      "metadata": {
        "id": "gqgZ4dPouU8d"
      }
    },
    {
      "cell_type": "markdown",
      "metadata": {
        "id": "GjvkFJc6oaZx"
      },
      "source": [
        "**TODO**"
      ]
    },
    {
      "cell_type": "markdown",
      "metadata": {
        "id": "69NjRKbgoaZx"
      },
      "source": [
        "### Analysis\n",
        "\n",
        "🧩 Show that if $\\omega_l$ and $\\omega_r$ are continuously differentiable functions of $(x, y, \\theta)$ (which includes the case of constant inputs), this system is well-posed."
      ]
    },
    {
      "cell_type": "markdown",
      "metadata": {
        "id": "2wEt8U00oaZx"
      },
      "source": [
        "**TODO**"
      ]
    },
    {
      "cell_type": "markdown",
      "metadata": {
        "id": "G1b9a_cYoaZy"
      },
      "source": [
        "🧩 Show that if $\\omega_l$ and $\\omega_r$ are constants, the maximal solution associated to any initial state is global. Is is still true of $\\omega_l$ and $\\omega_r$ are arbitrary continuously differentiable functions of $(x, y, \\theta)$ ?"
      ]
    },
    {
      "cell_type": "markdown",
      "metadata": {
        "id": "udZrflR_oaZy"
      },
      "source": [
        "**TODO**"
      ]
    },
    {
      "cell_type": "markdown",
      "metadata": {
        "id": "sBrsWDt9oaZy"
      },
      "source": [
        "### Vector Field\n",
        "\n",
        "In the sequel, `omega` is a function that computes the input vector $\\omega := (\\omega_l, \\omega_r)$ given the time $t$ and $(x, y, \\theta)$ (thus, it may depend on the time and/or on the system state if needed). For example:"
      ]
    },
    {
      "cell_type": "code",
      "execution_count": null,
      "metadata": {
        "id": "ZK9oGFsioaZy"
      },
      "outputs": [],
      "source": [
        "def omega(t, xytheta):\n",
        "    omega_l = (1 - l/4) * pi / r\n",
        "    omega_r = (1 + l/4) * pi / r\n",
        "    return array([omega_l, omega_r])"
      ]
    },
    {
      "cell_type": "markdown",
      "metadata": {
        "id": "7i6QmwmyoaZy"
      },
      "source": [
        "🧩 Implement a function `fun(t, xytheta)` that computes $(\\dot{x}, \\dot{y}, \\dot{\\theta})$ given the time $t$ and $(x,y,\\theta)$ (and implicitly the inputs $\\omega$ computed by the function `omega`)."
      ]
    },
    {
      "cell_type": "code",
      "execution_count": null,
      "metadata": {
        "id": "zHQ3gQnJoaZz"
      },
      "outputs": [],
      "source": [
        "pass"
      ]
    },
    {
      "cell_type": "markdown",
      "metadata": {
        "id": "96kGBAnOoaZz"
      },
      "source": [
        "### Simulation Setup\n",
        "\n",
        "🧩 Simulate the wheelchair dynamics for 4 seconds when $(x_0, y_0, \\theta_0)(t=0) = (0.0, 0.0, 0.0)$,\n",
        "and the wheels velocities are the constants $\\omega_l = (1 - \\ell/4)  \\pi / r \\mbox{ rad/s}$ and $\\omega_r = (1 + \\ell/4)  \\pi / r \\mbox{ rad/s}$.\n",
        "(Compute the dense outputs.)\n",
        "   "
      ]
    },
    {
      "cell_type": "code",
      "execution_count": null,
      "metadata": {
        "id": "Ye1PGUsioaZz"
      },
      "outputs": [],
      "source": [
        "pass"
      ]
    },
    {
      "cell_type": "markdown",
      "metadata": {
        "id": "h_76SWzNoaZz"
      },
      "source": [
        "🧩 Use the simulation results to draw the graphs of $x(t)$, $y(t)$ and $\\theta(t)$."
      ]
    },
    {
      "cell_type": "code",
      "execution_count": null,
      "metadata": {
        "id": "HN_QXHiCoaZ0"
      },
      "outputs": [],
      "source": [
        "pass"
      ]
    },
    {
      "cell_type": "markdown",
      "metadata": {
        "id": "ycJywwvDoaZ0"
      },
      "source": [
        "🧩 Use the simulation results to display the robot location every 0.5 second."
      ]
    },
    {
      "cell_type": "code",
      "execution_count": null,
      "metadata": {
        "id": "pllKaENPoaZ0"
      },
      "outputs": [],
      "source": [
        "pass"
      ]
    },
    {
      "cell_type": "markdown",
      "metadata": {
        "id": "AjOy7NN7oaZ0"
      },
      "source": [
        "🧩 What should be the analytical expression of $x(t)$, $y(t)$ and $\\theta(t)$?"
      ]
    },
    {
      "cell_type": "markdown",
      "metadata": {
        "id": "WgapbIRCoaZ0"
      },
      "source": [
        "**TODO**"
      ]
    },
    {
      "cell_type": "markdown",
      "metadata": {
        "id": "ajyB3-G5oaZ1"
      },
      "source": [
        "🧩 Do you experimental results match the theoretical results ? Draw the curves of the simulation error at time $t$ for $x$, $y$ and $\\theta$."
      ]
    },
    {
      "cell_type": "code",
      "execution_count": null,
      "metadata": {
        "id": "uSwQZ928oaZ1"
      },
      "outputs": [],
      "source": [
        "pass"
      ]
    },
    {
      "cell_type": "markdown",
      "metadata": {
        "id": "2QLQSGL7oaZ1"
      },
      "source": [
        "🧩 If needed, adjust the simulation parameters the simulated position error is less than $1\\, \\mathrm{ mm}$."
      ]
    },
    {
      "cell_type": "code",
      "execution_count": null,
      "metadata": {
        "id": "1rXWdniQoaZ1"
      },
      "outputs": [],
      "source": [
        "pass"
      ]
    }
  ],
  "metadata": {
    "kernelspec": {
      "display_name": "Python 3 (ipykernel)",
      "language": "python",
      "name": "python3"
    },
    "language_info": {
      "codemirror_mode": {
        "name": "ipython",
        "version": 3
      },
      "file_extension": ".py",
      "mimetype": "text/x-python",
      "name": "python",
      "nbconvert_exporter": "python",
      "pygments_lexer": "ipython3",
      "version": "3.12.0"
    },
    "colab": {
      "provenance": []
    }
  },
  "nbformat": 4,
  "nbformat_minor": 0
}